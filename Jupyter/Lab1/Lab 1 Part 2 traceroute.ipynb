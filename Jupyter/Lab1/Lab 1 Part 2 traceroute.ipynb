{
 "cells": [
  {
   "cell_type": "markdown",
   "metadata": {},
   "source": [
    "This is the second part of the first lab.\n",
    "\n",
    "The setup remains the same as in the first part, and the following is included only in case this part is not conducted immendately after the first part.\n",
    "\n",
    "###### Setup:  \n",
    "-- Insert transceiver in intl0 (B).    \n",
    "-- `rmmod ixgbe && modprobe ixgbe allow_unsupported_sfp=1` (Machine B)   \n",
    "-- `ifconfig intl0 192.168.0.2` (Machine B)  \n",
    "-- `ifconfig slf0 192.168.0.1` (Machine A)  \n",
    "-- `ssh-add` (Machine A) #if it fails, run first: eval `ssh-agent -s`  \n",
    "-- `mkdir /root/<crsid>` (Machine A, replace <crsid> with your crsid) \n",
    "  \n",
    "-- `cd /root/<crsid>` Machine A)  \n",
    "-- `git clone http://github.com/cucl-srg/L50` (Machine A)  \n",
    "-- `/root/L50/setup/mkdir1.sh <crsid>`. (Machine A)   \n",
    "-- Connect slf0 (A) to intl0 (B)  \n",
    "<img src=\"alt_setup1.png\">  "
   ]
  },
  {
   "cell_type": "code",
   "execution_count": null,
   "metadata": {},
   "outputs": [],
   "source": [
    "crsid='' #your crsid\n",
    "%run /root/$crsid/L50/Jupyter/useful/useful.py\n",
    "%run /root/$crsid/L50/Jupyter/useful/useful1.py\n",
    "%matplotlib inline\n",
    "machB_ip = '' #  XXX REPLACE THIS WITH THE IP of the host 128.232.XXX.YYY"
   ]
  },
  {
   "cell_type": "markdown",
   "metadata": {},
   "source": [
    "# 2. traceroute"
   ]
  },
  {
   "cell_type": "markdown",
   "metadata": {},
   "source": [
    "ping only measures the round-trip time between the source and destination. If the destination is unreachable, it could be due to a failure of any node or link on the route taken.   \n",
    "    \n",
    "traceroute reports the route that a packet takes across an IP network, and measures round-trip times of every hop. If the connection is lost along a certain hop, then we can isolate the failure between two nodes.  \n",
    "  \n",
    "###### Usage:    \n",
    "  \n",
    "`traceroute <address> [Optional: -I]`  \n",
    "-I = use ICMP Echo Request packets. If unspecified, use UDP packets. -I may be needed if UDP packets are blocked by a node.    "
   ]
  },
  {
   "cell_type": "markdown",
   "metadata": {},
   "source": [
    "### Experiment 6"
   ]
  },
  {
   "cell_type": "markdown",
   "metadata": {},
   "source": [
    "<font color='red'>TODO:</font> Traceroute from machine A to B, finding 2 different routes."
   ]
  },
  {
   "cell_type": "code",
   "execution_count": null,
   "metadata": {},
   "outputs": [],
   "source": [
    "!traceroute # Add IP Here"
   ]
  },
  {
   "cell_type": "code",
   "execution_count": null,
   "metadata": {},
   "outputs": [],
   "source": [
    "!traceroute  # Add IP here"
   ]
  },
  {
   "cell_type": "markdown",
   "metadata": {},
   "source": [
    "### Experiment 7\n",
    "Traceroute from Machine A to different addresses."
   ]
  },
  {
   "cell_type": "markdown",
   "metadata": {},
   "source": [
    "<font color='red'>TODO:</font> Traceroute to 8.8.8.8."
   ]
  },
  {
   "cell_type": "code",
   "execution_count": null,
   "metadata": {},
   "outputs": [],
   "source": [
    "#Complete here"
   ]
  },
  {
   "cell_type": "markdown",
   "metadata": {},
   "source": [
    "<font color='red'>TODO:</font> Traceroute to munnari.oz.au."
   ]
  },
  {
   "cell_type": "code",
   "execution_count": null,
   "metadata": {
    "scrolled": true
   },
   "outputs": [],
   "source": [
    "#Complete here"
   ]
  },
  {
   "cell_type": "markdown",
   "metadata": {},
   "source": [
    "<font color='red'>TODO:</font> Traceroute to gateway address."
   ]
  },
  {
   "cell_type": "code",
   "execution_count": null,
   "metadata": {
    "scrolled": true
   },
   "outputs": [],
   "source": [
    "!ip route | grep default #This command will provide you the gateway address"
   ]
  },
  {
   "cell_type": "code",
   "execution_count": null,
   "metadata": {
    "scrolled": true
   },
   "outputs": [],
   "source": [
    "#Complete here"
   ]
  },
  {
   "cell_type": "markdown",
   "metadata": {},
   "source": [
    "### Experiment 8\n",
    "Traceroute from a non-lab machine to different addresses."
   ]
  },
  {
   "cell_type": "markdown",
   "metadata": {},
   "source": [
    "<font color='red'>TODO:</font> Traceroute to 8.8.8.8."
   ]
  },
  {
   "cell_type": "code",
   "execution_count": null,
   "metadata": {},
   "outputs": [],
   "source": [
    "#Complete here"
   ]
  },
  {
   "cell_type": "markdown",
   "metadata": {},
   "source": [
    "<font color='red'>TODO:</font> Traceroute to munnari.oz.au."
   ]
  },
  {
   "cell_type": "code",
   "execution_count": null,
   "metadata": {},
   "outputs": [],
   "source": [
    "#Complete here"
   ]
  },
  {
   "cell_type": "markdown",
   "metadata": {},
   "source": [
    "<font color='red'>TODO:</font> Traceroute to gateway address identified in experiment 7."
   ]
  },
  {
   "cell_type": "code",
   "execution_count": null,
   "metadata": {},
   "outputs": [],
   "source": [
    "#Complete here"
   ]
  }
 ],
 "metadata": {
  "kernelspec": {
   "display_name": "Python 2",
   "language": "python",
   "name": "python2"
  },
  "language_info": {
   "codemirror_mode": {
    "name": "ipython",
    "version": 2
   },
   "file_extension": ".py",
   "mimetype": "text/x-python",
   "name": "python",
   "nbconvert_exporter": "python",
   "pygments_lexer": "ipython2",
   "version": "2.7.6"
  }
 },
 "nbformat": 4,
 "nbformat_minor": 2
}
