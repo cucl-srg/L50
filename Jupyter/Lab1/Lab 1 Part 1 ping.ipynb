{
 "cells": [
  {
   "cell_type": "markdown",
   "metadata": {},
   "source": [
    "In this experiment you will use ping, traceroute and iperf.\n",
    "\n",
    "###### Setup:  \n",
    "-- Insert transceiver in intl0 (B).    \n",
    "-- `rmmod ixgbe && modprobe ixgbe allow_unsupported_sfp=1` (Machine B)   \n",
    "-- `ifconfig intl0 192.168.0.2` (Machine B)  \n",
    "-- `ifconfig slf0 192.168.0.1` (Machine A)  \n",
    "-- `ssh-add` (Machine A) #if it fails, run first: eval `ssh-agent -s`  \n",
    "-- `mkdir /root/<crsid>` (Machine A, replace <crsid> with your crsid) \n",
    "  \n",
    "-- `cd /root/<crsid>` (Machine A)  \n",
    "-- `git clone http://github.com/cucl-srg/L50` (Machine A)  \n",
    "-- `/root/L50/setup/mkdir1.sh <crsid>`. (Machine A)   \n",
    "-- Connect slf0 (A) to intl0 (B)  \n",
    "<img src=\"alt_setup1.png\">  "
   ]
  },
  {
   "cell_type": "code",
   "execution_count": null,
   "metadata": {},
   "outputs": [],
   "source": [
    "crsid='' #your crsid\n",
    "%run /root/$crsid/L50/Jupyter/useful/useful.py\n",
    "%run /root/$crsid/L50/Jupyter/useful/useful1.py\n",
    "%matplotlib inline\n",
    "machB_ip = '' # XXX REPLACE THIS WITH THE IP of the host 128.232.XXX.YYY"
   ]
  },
  {
   "cell_type": "markdown",
   "metadata": {},
   "source": [
    "# 1. ping\n",
    "ping is used to test the reachability of a host on an IP network. The source sends an ICMP Echo Request and the destination sends an ICMP Echo Reply. The round-trip time is measured.  \n",
    "  \n",
    "###### Usage:\n",
    "  \n",
    "`ping <address> [Optional: -c <count>] [Optional: -i <interval>] [Optional: -f]`  \n",
    "interval = gap between pings in seconds, default=1  \n",
    "-f = pings as fast as possible  \n",
    "count = number of pings. If unspecified, ping runs until killed. "
   ]
  },
  {
   "cell_type": "markdown",
   "metadata": {},
   "source": [
    "### Experiment 1\n",
    "Ping 1000 times. Plot the CDF of RTTs."
   ]
  },
  {
   "cell_type": "markdown",
   "metadata": {},
   "source": [
    "#### 1a A ping B"
   ]
  },
  {
   "cell_type": "markdown",
   "metadata": {},
   "source": [
    "<font color='red'>TODO:</font> Fill in `ping_cmd`, the command to ping from Machine A to Machine B, 1000 times, interval 0.001 seconds."
   ]
  },
  {
   "cell_type": "code",
   "execution_count": null,
   "metadata": {},
   "outputs": [],
   "source": [
    "ping_cmd = ''\n",
    "for i in range(10):\n",
    "    local_cmd(ping_cmd+' | grep -e \"ttl\" > /root/'+crsid+'/L50Lab1/1/exp1a_'+str(i))"
   ]
  },
  {
   "cell_type": "code",
   "execution_count": null,
   "metadata": {},
   "outputs": [],
   "source": [
    "graph1('exp1a',crsid,10.0,1000)"
   ]
  },
  {
   "cell_type": "markdown",
   "metadata": {},
   "source": [
    "#### 1b B ping A"
   ]
  },
  {
   "cell_type": "markdown",
   "metadata": {},
   "source": [
    "<font color='red'>TODO:</font> Fill in `ping_cmd`, the command to ping from Machine B to Machine A, 1000 times, interval 0.001 seconds."
   ]
  },
  {
   "cell_type": "code",
   "execution_count": null,
   "metadata": {},
   "outputs": [],
   "source": [
    "ping_cmd = ''\n",
    "ssh = ssh_connect(machB_ip)\n",
    "for i in range(10):\n",
    "    with open('/root/'+crsid+'/L50Lab1/1/exp1b_'+str(i),'w+') as f:\n",
    "        output = ssh_cmd(ping_cmd+' | grep -e \"ttl\"',ssh)\n",
    "        f.write(output)\n",
    "ssh.close()"
   ]
  },
  {
   "cell_type": "code",
   "execution_count": null,
   "metadata": {
    "scrolled": false
   },
   "outputs": [],
   "source": [
    "graph1('exp1b',crsid,10.0,1000)"
   ]
  },
  {
   "cell_type": "markdown",
   "metadata": {},
   "source": [
    "### Experiment 2\n",
    "Ping 500 times with varying intervals. Plot the CDFs of RTTs."
   ]
  },
  {
   "cell_type": "markdown",
   "metadata": {},
   "source": [
    "#### 2a A ping B"
   ]
  },
  {
   "cell_type": "markdown",
   "metadata": {},
   "source": [
    "<font color='red'>TODO:</font> Fill in `ping_cmd`, the command to ping from Machine A to Machine B, 500 times for each interval."
   ]
  },
  {
   "cell_type": "code",
   "execution_count": null,
   "metadata": {},
   "outputs": [],
   "source": [
    "interval=['0.000001', '0.00001', '0.0001','0.001','0.01','0.1']\n",
    "for i in interval:\n",
    "    ping_cmd = ''\n",
    "    local_cmd(ping_cmd+' | grep -e \"ttl\" > /root/'+crsid+'/L50Lab1/2/exp2a_'+i)"
   ]
  },
  {
   "cell_type": "code",
   "execution_count": null,
   "metadata": {
    "scrolled": true
   },
   "outputs": [],
   "source": [
    "interval=['0.000001', '0.00001', '0.0001','0.001','0.01','0.1']\n",
    "def graph2(exp,interval,num):\n",
    "    for i in interval:\n",
    "        rtt= getrtt('2/'+exp+'_'+i,crsid,num)\n",
    "        values, base = np.histogram(rtt, bins=1000)\n",
    "        cumulative = np.cumsum(values/float(num))\n",
    "        plt.plot(base[:-1], cumulative, label=i)\n",
    "    plt.ylabel(\"Cumulative probability\")\n",
    "    plt.xlabel(\"RTT (us)\")\n",
    "    plt.legend(loc='center left', bbox_to_anchor=(1.0, 0.5))\n",
    "    plt.show()\n",
    "graph2('exp2a',interval,500)"
   ]
  },
  {
   "cell_type": "markdown",
   "metadata": {},
   "source": [
    "#### 2b B ping A"
   ]
  },
  {
   "cell_type": "markdown",
   "metadata": {},
   "source": [
    "<font color='red'>TODO:</font> Fill in `ping_cmd`, the command to ping from Machine B to Machine A, 500 times for each interval."
   ]
  },
  {
   "cell_type": "code",
   "execution_count": null,
   "metadata": {},
   "outputs": [],
   "source": [
    "interval=['0.000001', '0.00001', '0.0001','0.001','0.01','0.1']\n",
    "ssh = ssh_connect(machB_ip)\n",
    "for i in interval:\n",
    "    with open('/root/'+crsid+'/L50Lab1/2/exp2b_'+str(i),'w+') as f:\n",
    "        ping_cmd = ''\n",
    "        output = ssh_cmd(ping_cmd+' | grep -e \"ttl\"',ssh)\n",
    "        f.write(output)\n",
    "ssh.close()"
   ]
  },
  {
   "cell_type": "code",
   "execution_count": null,
   "metadata": {},
   "outputs": [],
   "source": [
    "interval=['0.000001', '0.00001', '0.0001','0.001','0.01','0.1']\n",
    "graph2('exp2b',interval,500)"
   ]
  },
  {
   "cell_type": "markdown",
   "metadata": {},
   "source": [
    "### Experiment 3\n",
    "Ping 10000 times using flooding."
   ]
  },
  {
   "cell_type": "markdown",
   "metadata": {},
   "source": [
    "#### 3a A ping B"
   ]
  },
  {
   "cell_type": "markdown",
   "metadata": {},
   "source": [
    "<font color='red'>TODO:</font> Fill in `ping_cmd`, the command to ping from Machine A to Machine B 10000 times using flooding."
   ]
  },
  {
   "cell_type": "code",
   "execution_count": null,
   "metadata": {
    "scrolled": true
   },
   "outputs": [],
   "source": [
    "ping_cmd = ''\n",
    "print local_cmd(ping_cmd + ' | grep -e \"transmitted\" -e \"rtt\"')"
   ]
  },
  {
   "cell_type": "markdown",
   "metadata": {},
   "source": [
    "#### 3b B ping A"
   ]
  },
  {
   "cell_type": "markdown",
   "metadata": {},
   "source": [
    "<font color='red'>TODO:</font> Fill in `ping_cmd`, the command to ping from Machine B to Machine A 10000 times using flooding."
   ]
  },
  {
   "cell_type": "code",
   "execution_count": null,
   "metadata": {},
   "outputs": [],
   "source": [
    "ssh = ssh_connect(machB_ip)\n",
    "ping_cmd = ''\n",
    "print ssh_cmd(ping_cmd+' | grep -e \"transmitted\" -e \"rtt\"', ssh)\n",
    "ssh.close()"
   ]
  },
  {
   "cell_type": "markdown",
   "metadata": {},
   "source": [
    "### Experiment 4\n",
    "Ping 10000 times using flooding, pinning to core 2."
   ]
  },
  {
   "cell_type": "markdown",
   "metadata": {},
   "source": [
    "taskset can be used to launch a command with a given CPU affinity. This means that the process will only run on the list of specified CPU cores.\n",
    "###### Usage: \n",
    "`taskset -c <list of CPU cores> command [arguments]`    "
   ]
  },
  {
   "cell_type": "markdown",
   "metadata": {},
   "source": [
    "#### A ping B"
   ]
  },
  {
   "cell_type": "markdown",
   "metadata": {},
   "source": [
    "<font color='red'>TODO:</font> Fill in `cmd`, the command to ping from Machine A to Machine B 10000 times using flooding, pinning to core 2."
   ]
  },
  {
   "cell_type": "code",
   "execution_count": null,
   "metadata": {},
   "outputs": [],
   "source": [
    "cmd = ''\n",
    "print local_cmd(cmd+' | grep -e \"transmitted\" -e \"rtt\"')"
   ]
  },
  {
   "cell_type": "markdown",
   "metadata": {},
   "source": [
    "#### B ping A"
   ]
  },
  {
   "cell_type": "markdown",
   "metadata": {},
   "source": [
    "<font color='red'>TODO:</font> Fill in `cmd`, the command to ping from Machine B to Machine A 10000 times using flooding, pinning to core 2."
   ]
  },
  {
   "cell_type": "code",
   "execution_count": null,
   "metadata": {},
   "outputs": [],
   "source": [
    "cmd = ''\n",
    "ssh = ssh_connect(machB_ip)\n",
    "print ssh_cmd(cmd+' | grep -e \"transmitted\" -e \"rtt\"', ssh)\n",
    "ssh.close()"
   ]
  },
  {
   "cell_type": "markdown",
   "metadata": {},
   "source": [
    "### Experiment 5\n",
    "Ping 100 times for interval 0.001 and 0.000001, with varying rx-usecs. Plot the maximum, median and minimum RTTs for each rx-usecs value."
   ]
  },
  {
   "cell_type": "markdown",
   "metadata": {},
   "source": [
    "ethtool can be used to change interrupt rates for some NICs. rx-usecs is the number of microseconds to wait before raising an RX interrupt after a packet has been received. When rx-usecs is 0, rx-frames is used instead, the number of frames to queue up before raising an RX interrupt.   "
   ]
  },
  {
   "cell_type": "markdown",
   "metadata": {},
   "source": [
    "#### 5a A ping B"
   ]
  },
  {
   "cell_type": "markdown",
   "metadata": {},
   "source": [
    "<font color='red'>TODO:</font> Fill in `ping_cmd1`, the command to ping from Machine A to Machine B, 100 times, interval 0.001 seconds. Fill in `ping_cmd2`, the command to ping from Machine A to Machine B, 100 times, interval 0.000001 seconds."
   ]
  },
  {
   "cell_type": "code",
   "execution_count": null,
   "metadata": {},
   "outputs": [],
   "source": [
    "usecs = [1, 5, 10, 15, 20, 30, 40, 50, 60, 70, 80, 90, 100]\n",
    "ssh = ssh_connect(machB_ip)\n",
    "for u in usecs:\n",
    "    for i in range(10):\n",
    "        ssh_cmd(\"ethtool -C intl0 rx-usecs \" + str(u), ssh) # set rx-usecs\n",
    "        sleep(1)\n",
    "        ping_cmd1 = ''\n",
    "        local_cmd(ping_cmd1+' | grep -e \"ttl\" > /root/'+crsid+'/L50Lab1/5/exp5a_0.001_'+str(u)+'_'+str(i))\n",
    "        ping_cmd2 = ''\n",
    "        local_cmd(ping_cmd2+' | grep -e \"ttl\" > /root/'+crsid+'/L50Lab1/5/exp5a_0.000001_'+str(u)+'_'+str(i))\n",
    "ssh_cmd(\"ethtool -C intl0 rx-usecs 0\", ssh)\n",
    "ssh.close()"
   ]
  },
  {
   "cell_type": "code",
   "execution_count": null,
   "metadata": {},
   "outputs": [],
   "source": [
    "graph5_001('exp5a',crsid,usecs,100)"
   ]
  },
  {
   "cell_type": "code",
   "execution_count": null,
   "metadata": {},
   "outputs": [],
   "source": [
    "graph5_000001('exp5a',crsid,usecs,100)"
   ]
  },
  {
   "cell_type": "markdown",
   "metadata": {},
   "source": [
    "#### 5b B ping A"
   ]
  },
  {
   "cell_type": "markdown",
   "metadata": {},
   "source": [
    "<font color='red'>TODO:</font> Fill in `ping_cmd1`, the command to ping from Machine B to Machine A, 100 times, interval 0.001 seconds. Fill in `ping_cmd2`, the command to ping from Machine B to Machine A, 100 times, interval 0.000001 seconds."
   ]
  },
  {
   "cell_type": "code",
   "execution_count": null,
   "metadata": {
    "scrolled": true
   },
   "outputs": [],
   "source": [
    "usecs = [1, 5, 10, 15, 20, 30, 40, 50, 60, 70, 80, 90, 100]\n",
    "ssh = ssh_connect(machB_ip)\n",
    "for u in usecs:\n",
    "    for i in range(10):\n",
    "        local_cmd(\"ethtool -C slf0 rx-usecs \" + str(u)) # set rx-usecs\n",
    "        with open('/root/'+crsid+'/L50Lab1/5/exp5b_0.001_'+str(u)+'_'+str(i),'w+') as f:\n",
    "            ping_cmd1 = ''\n",
    "            output = ssh_cmd(ping_cmd1+' | grep -e \"ttl\"' ,ssh)\n",
    "            f.write(output)\n",
    "        with open('/root/'+crsid+'/L50Lab1/5/exp5b_0.000001_'+str(u)+'_'+str(i),'w+') as f:\n",
    "            ping_cmd2 = ''\n",
    "            output = ssh_cmd(ping_cmd2+' | grep -e \"ttl\"',ssh)\n",
    "            f.write(output)\n",
    "ssh.close()                \n",
    "local_cmd(\"ethtool -C slf0 rx-usecs 0\")"
   ]
  },
  {
   "cell_type": "code",
   "execution_count": null,
   "metadata": {
    "scrolled": true
   },
   "outputs": [],
   "source": [
    "graph5_001('exp5b',crsid,usecs,100)"
   ]
  },
  {
   "cell_type": "code",
   "execution_count": null,
   "metadata": {
    "scrolled": true
   },
   "outputs": [],
   "source": [
    "graph5_000001('exp5b',crsid,usecs,100)"
   ]
  }
 ],
 "metadata": {
  "kernelspec": {
   "display_name": "Python 2",
   "language": "python",
   "name": "python2"
  },
  "language_info": {
   "codemirror_mode": {
    "name": "ipython",
    "version": 2
   },
   "file_extension": ".py",
   "mimetype": "text/x-python",
   "name": "python",
   "nbconvert_exporter": "python",
   "pygments_lexer": "ipython2",
   "version": "2.7.6"
  }
 },
 "nbformat": 4,
 "nbformat_minor": 2
}
