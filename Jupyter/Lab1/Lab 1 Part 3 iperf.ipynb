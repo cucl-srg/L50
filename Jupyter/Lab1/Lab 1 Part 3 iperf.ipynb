{
 "cells": [
  {
   "cell_type": "markdown",
   "metadata": {},
   "source": [
    "This is the third part of the first lab.\n",
    "\n",
    "The setup remains the same as in the previous parts, and the following is included only in case this part is not conducted immendately after the second part.  \n",
    "\n",
    "\n",
    "###### Setup:  \n",
    "-- Insert transceiver in intl0 (B).    \n",
    "-- `rmmod ixgbe && modprobe ixgbe allow_unsupported_sfp=1` (Machine B)   \n",
    "-- `ifconfig intl0 192.168.0.2` (Machine B)  \n",
    "-- `ifconfig slf0 192.168.0.1` (Machine A)  \n",
    "-- `ssh-add` (Machine A) #if it fails, run first: eval `ssh-agent -s`  \n",
    "-- `mkdir /root/<crsid>` (Machine A, replace <crsid> with your crsid) \n",
    "  \n",
    "-- `cd /root/<crsid>` Machine A)  \n",
    "-- `git clone http://github.com/cucl-srg/L50` (Machine A)  \n",
    "-- `/root/L50/setup/mkdir1.sh <crsid>`. (Machine A)   \n",
    "-- Connect slf0 (A) to intl0 (B)  \n",
    "<img src=\"alt_setup1.png\">  "
   ]
  },
  {
   "cell_type": "code",
   "execution_count": null,
   "metadata": {},
   "outputs": [],
   "source": [
    "crsid='' #your crsid\n",
    "%run /root/$crsid/L50/Jupyter/useful/useful.py\n",
    "%run /root/$crsid/L50/Jupyter/useful/useful1.py\n",
    "%matplotlib inline\n",
    "machB_ip = '' #  XXX REPLACE THIS WITH THE IP of the host 128.232.XXX.YYY"
   ]
  },
  {
   "cell_type": "markdown",
   "metadata": {},
   "source": [
    "# 3. iperf"
   ]
  },
  {
   "cell_type": "markdown",
   "metadata": {},
   "source": [
    "iperf is used to test the maximum network throughput that a computer can handle. The DuT acts as an iperf server and listens for connections. A second computer connects to the server and sends datagrams.  \n",
    "  \n",
    "In bidirectional testing, both computers act as both servers (receiving) and clients (sending).  \n",
    "  \n",
    "###### Usage of iperf: \n",
    "    \n",
    "Server:  \n",
    "* TCP       \n",
    "`iperf -s -B <server address>`  \n",
    "* UDP      \n",
    "`iperf -s -B <server address>` -u   \n",
    "   \n",
    "Client:  \n",
    "* TCP     \n",
    "`iperf -c <server address> [Opt: -i <interval>] [Opt: -t <time>] [Opt: -f <format>] [Opt: -d] [Opt: -w <TCP window size>]`  \n",
    "interval = how often to report bandwidth in seconds. Default is no periodic reports.  \n",
    "time = length of test in seconds. Default value is 10.    \n",
    "format = 'k' for Kbits/sec, 'm' for Mbits/sec, 'g' for Gbits/sec. Default is adaptive.    \n",
    "-d = bidirectional  \n",
    "TCP window size -> eg. `-w 20KB`\n",
    "    \n",
    "      \n",
    "* UDP    \n",
    "`iperf -c <server address> [Opt: -i <interval>] [Opt: -t <time>] [Opt: -f <format>] [Opt: -d] [Opt: -b <bandwidth>]`   \n",
    "bandwidth -> eg. `-b 20m` (Mbits/sec).  \n",
    "\n",
    "NB. By default, iperf restricts bandwidth for UDP clients to a maximum of 1 Mbit/sec. There is no restriction for TCP clients.   "
   ]
  },
  {
   "cell_type": "markdown",
   "metadata": {},
   "source": [
    "### Experiment 9"
   ]
  },
  {
   "cell_type": "markdown",
   "metadata": {},
   "source": [
    "Run one way iperf, from A to B, 10 sec long. Plot the bandwidth for each time interval (1 sec)."
   ]
  },
  {
   "cell_type": "markdown",
   "metadata": {},
   "source": [
    "<font color='red'>TODO:</font> Fill in `server_cmd`, the command to start the server. Fill in `client_cmd`, the command to connect to the server, 10 seconds long, interval 1 second, format Gbits/sec."
   ]
  },
  {
   "cell_type": "code",
   "execution_count": null,
   "metadata": {},
   "outputs": [],
   "source": [
    "server_cmd = ''\n",
    "ssh = ssh_connect(machB_ip)\n",
    "start_new_thread(ssh_cmd,(server_cmd,ssh))\n",
    "\n",
    "for i in range(5):\n",
    "    sleep(1)\n",
    "    client_cmd =''\n",
    "    local_cmd(client_cmd+'| grep -e \"bits/sec\" -m 10 > /root/'+crsid+'/L50Lab1/9/exp9_' + str(i))\n",
    "\n",
    "ssh_cmd('pkill iperf', ssh)\n",
    "ssh.close()"
   ]
  },
  {
   "cell_type": "code",
   "execution_count": null,
   "metadata": {},
   "outputs": [],
   "source": [
    "bws = data_iperf('9/exp9',crsid)\n",
    "ys, yerr = graph_error(bws)\n",
    "plt.errorbar(np.arange(0.5,10.0,1.0),ys,yerr=yerr,linestyle=\"none\")\n",
    "ys.append(ys[-1])\n",
    "plt.step(np.arange(0,11,1), ys ,where=\"post\")\n",
    "\n",
    "plt.xlabel(\"Time (s)\")\n",
    "plt.ylabel(\"Bandwidth (Gbit/s)\")\n",
    "plt.show()"
   ]
  },
  {
   "cell_type": "markdown",
   "metadata": {},
   "source": [
    "### Experiment 10"
   ]
  },
  {
   "cell_type": "markdown",
   "metadata": {},
   "source": [
    "Run 2 way iperf, 10 sec long. Plot the bandwidth for each time interval (1 sec)."
   ]
  },
  {
   "cell_type": "markdown",
   "metadata": {},
   "source": [
    "<font color='red'>TODO:</font> Fill in `server_cmd`, the command to start the server. Fill in `client_cmd`, the command to connect to the server, bidirectional, 10 seconds long, interval 1 second, format Gbits/sec."
   ]
  },
  {
   "cell_type": "code",
   "execution_count": null,
   "metadata": {},
   "outputs": [],
   "source": [
    "server_cmd = ''\n",
    "ssh = ssh_connect(machB_ip)\n",
    "start_new_thread(ssh_cmd,(server_cmd,ssh))\n",
    "\n",
    "for i in range(5):\n",
    "    sleep(1)\n",
    "    client_cmd = ''\n",
    "    local_cmd(client_cmd+' | grep -e \"bits/sec\" -e \"with\" -m 22 > /root/'+crsid+'/L50Lab1/10/exp10_' + str(i))\n",
    "\n",
    "ssh_cmd('pkill iperf', ssh)\n",
    "ssh.close()"
   ]
  },
  {
   "cell_type": "code",
   "execution_count": null,
   "metadata": {},
   "outputs": [],
   "source": [
    "sbw,cbw = data10(crsid)\n",
    "ys,yerr = graph_error(sbw)\n",
    "plt.errorbar(np.arange(0.4,10.0,1.0),ys,yerr=yerr,linestyle=\"none\",color=\"red\")\n",
    "ys.append(ys[-1])\n",
    "plt.step(np.arange(0,11,1), ys ,where=\"post\",color=\"red\",label=\"server\")\n",
    "\n",
    "ys2,yerr2 = graph_error(cbw)\n",
    "plt.errorbar(np.arange(0.6,10.0,1.0),ys2,yerr=yerr2,linestyle=\"none\",color=\"blue\")\n",
    "ys2.append(ys2[-1])\n",
    "plt.step(np.arange(0,11,1), ys2 ,where=\"post\",color=\"blue\",label=\"client\")\n",
    "    \n",
    "plt.xlabel(\"Time (s)\")\n",
    "plt.ylabel(\"Bandwidth (Mbit/s)\")\n",
    "plt.legend(loc='center left', bbox_to_anchor=(1, 0.5))\n",
    "plt.show()"
   ]
  },
  {
   "cell_type": "markdown",
   "metadata": {},
   "source": [
    "### Experiment 11"
   ]
  },
  {
   "cell_type": "markdown",
   "metadata": {},
   "source": [
    "Run one way iperf, from A to B, 3 sec long, with varying window size. Plot the bandwidth for each window size."
   ]
  },
  {
   "cell_type": "markdown",
   "metadata": {},
   "source": [
    "<font color='red'>TODO:</font> Fill in `server_cmd`, the command to start the server. Fill in `client_cmd`, the command to connect to the server, 3 seconds long, format Kbits/sec, for each window size in KB."
   ]
  },
  {
   "cell_type": "code",
   "execution_count": null,
   "metadata": {},
   "outputs": [],
   "source": [
    "server_cmd = ''\n",
    "ssh = ssh_connect(machB_ip)\n",
    "start_new_thread(ssh_cmd,(server_cmd,ssh))\n",
    "\n",
    "windows = [1,50,100,150,200,250]\n",
    "for w in windows:\n",
    "    for i in range(5):\n",
    "        sleep(1)\n",
    "        client_cmd = ''\n",
    "        local_cmd(client_cmd+' | grep -e \"window\" -e \"bits/sec\" > /root/'+crsid+'/L50Lab1/11/exp11_'+str(w)+'_'+str(i))\n",
    "    \n",
    "ssh_cmd('pkill iperf', ssh)\n",
    "ssh.close()"
   ]
  },
  {
   "cell_type": "code",
   "execution_count": null,
   "metadata": {},
   "outputs": [],
   "source": [
    "winds, bws = data11(windows,crsid)\n",
    "ys,yerr =graph_error(bws)\n",
    "plt.errorbar(winds,ys,yerr=yerr)\n",
    "plt.ylabel(\"Bandwidth (Gbits/sec)\")\n",
    "plt.xlabel(\"Window size (KB)\")\n",
    "plt.show()"
   ]
  },
  {
   "cell_type": "markdown",
   "metadata": {},
   "source": [
    "### Experiment 12"
   ]
  },
  {
   "cell_type": "markdown",
   "metadata": {},
   "source": [
    "Run one way iperf using UDP, from A to B, 3 sec long, with varying bandwidth. Plot the percentage of packets dropped for each bandwidth."
   ]
  },
  {
   "cell_type": "markdown",
   "metadata": {},
   "source": [
    "<font color='red'>TODO:</font> Fill in `server_cmd`, the command to start the UDP server. Fill in `client_cmd`, the command to connect to the UDP server, 3 seconds long, format Mbits/sec, for each bandwidth in Mbits/sec."
   ]
  },
  {
   "cell_type": "code",
   "execution_count": null,
   "metadata": {},
   "outputs": [],
   "source": [
    "server_cmd = ''\n",
    "ssh = ssh_connect(machB_ip)\n",
    "start_new_thread(ssh_cmd,(server_cmd,ssh))\n",
    "\n",
    "bands = [10,100,1000,5000,9000]\n",
    "for b in bands:\n",
    "    for i in range(5):\n",
    "        sleep(1)\n",
    "        client_cmd = ''\n",
    "        local_cmd(client_cmd+' | grep -e \"%\"> /root/'+crsid+'/L50Lab1/12/exp12_'+str(b)+ '_'+ str(i))\n",
    "    \n",
    "ssh_cmd('pkill iperf', ssh)\n",
    "ssh.close()"
   ]
  },
  {
   "cell_type": "markdown",
   "metadata": {},
   "source": [
    "<font color='red'>TODO:</font> Plot a graph of percentage of packets dropped against bandwidth, with error bars."
   ]
  },
  {
   "cell_type": "code",
   "execution_count": null,
   "metadata": {
    "scrolled": false
   },
   "outputs": [],
   "source": [
    "bans,pcs = data_band('12/exp12',crsid,bands)\n",
    "ys, yerr = graph_error(pcs)\n"
   ]
  },
  {
   "cell_type": "markdown",
   "metadata": {},
   "source": [
    "### Experiment 13"
   ]
  },
  {
   "cell_type": "markdown",
   "metadata": {},
   "source": [
    "###### Usage of iperf3 :   \n",
    "  \n",
    "Server:  \n",
    "* TCP/UDP      \n",
    "`iperf3 -s -B <server address>`     \n",
    "     \n",
    "Client:  \n",
    "* TCP     \n",
    "`iperf3 -c <server address> [Opt: -i <interval>] [Opt: -t <time>] [Opt: -f <format>] [Opt: -w <window size>]`     \n",
    "* UDP     \n",
    "`iperf3 -c <server address> [Opt: -i <interval>] [Opt: -t <time>] [Opt: -f <format>] [Opt: -b <bandwidth>]`"
   ]
  },
  {
   "cell_type": "markdown",
   "metadata": {},
   "source": [
    "### 13a"
   ]
  },
  {
   "cell_type": "markdown",
   "metadata": {},
   "source": [
    "Run one way iperf, from A to B, 10 sec long. Plot the bandwidth for each time interval (1 sec)."
   ]
  },
  {
   "cell_type": "markdown",
   "metadata": {},
   "source": [
    "<font color='red'>TODO:</font> Fill in `server_cmd`, the command to start the server. Fill in `client_cmd`, the command to connect to the server, 10 seconds long, format Gbits/sec, interval 1 second."
   ]
  },
  {
   "cell_type": "code",
   "execution_count": null,
   "metadata": {},
   "outputs": [],
   "source": [
    "server_cmd = ''\n",
    "ssh = ssh_connect(machB_ip)\n",
    "start_new_thread(ssh_cmd,(server_cmd,ssh))\n",
    "\n",
    "for i in range(5):\n",
    "    sleep(1)\n",
    "    client_cmd = ''\n",
    "    local_cmd(client_cmd+' | grep -e \"bits/sec\" -m 10 > /root/'+crsid+'/L50Lab1/13/exp13a_' + str(i))\n",
    "\n",
    "ssh_cmd('pkill iperf3', ssh)\n",
    "ssh.close()"
   ]
  },
  {
   "cell_type": "markdown",
   "metadata": {},
   "source": [
    "<font color='red'>TODO:</font> Plot a step graph of bandwidth against time, with error bars."
   ]
  },
  {
   "cell_type": "code",
   "execution_count": null,
   "metadata": {
    "scrolled": false
   },
   "outputs": [],
   "source": [
    "bws = data_iperf('13/exp13a',crsid)\n",
    "ys, yerr = graph_error(bws)\n"
   ]
  },
  {
   "cell_type": "markdown",
   "metadata": {},
   "source": [
    "### 13b"
   ]
  },
  {
   "cell_type": "markdown",
   "metadata": {},
   "source": [
    "Run one way iperf, from A to B, 3 sec long, with varying window size. Plot the bandwidth for each window size."
   ]
  },
  {
   "cell_type": "markdown",
   "metadata": {},
   "source": [
    "<font color='red'>TODO:</font> Fill in `server_cmd`, the command to start the server. Fill in `client_cmd`, the command to connect to the server, 3 seconds long, format Mbits/sec, for every window size in KB."
   ]
  },
  {
   "cell_type": "code",
   "execution_count": null,
   "metadata": {},
   "outputs": [],
   "source": [
    "server_cmd =''\n",
    "ssh = ssh_connect(machB_ip)\n",
    "start_new_thread(ssh_cmd,(server_cmd,ssh))\n",
    "\n",
    "windows = [1,50,100,150,200,250]\n",
    "for w in windows:\n",
    "    for i in range(5):\n",
    "        sleep(1)\n",
    "        client_cmd = ''\n",
    "        local_cmd(client_cmd +' | grep -e \"bits/sec\" > /root/'+crsid+'/L50Lab1/13/exp13b_'+str(w)+'_'+str(i))\n",
    "    \n",
    "ssh_cmd('pkill iperf3', ssh)\n",
    "ssh.close()"
   ]
  },
  {
   "cell_type": "markdown",
   "metadata": {},
   "source": [
    "<font color='red'>TODO:</font> Plot a graph of bandwidth against window size, with error bars."
   ]
  },
  {
   "cell_type": "code",
   "execution_count": null,
   "metadata": {
    "scrolled": true
   },
   "outputs": [],
   "source": [
    "bws = data13b(windows,crsid)\n",
    "ys,yerr = graph_error(bws)\n"
   ]
  },
  {
   "cell_type": "markdown",
   "metadata": {},
   "source": [
    "### 13c"
   ]
  },
  {
   "cell_type": "markdown",
   "metadata": {},
   "source": [
    "Run one way iperf using UDP, from A to B, 3 sec long, with varying bandwidth. Plot the percentage of packets dropped for each bandwidth."
   ]
  },
  {
   "cell_type": "markdown",
   "metadata": {},
   "source": [
    "<font color='red'>TODO:</font> Fill in `server_cmd`, the command to start the UDP server. Fill in `client_cmd`, the command to connect to the UDP server, 3 seconds long, format Mbits/sec, for every bandwidth in Mbits/sec."
   ]
  },
  {
   "cell_type": "code",
   "execution_count": null,
   "metadata": {},
   "outputs": [],
   "source": [
    "server_cmd = ''\n",
    "ssh = ssh_connect(machB_ip)\n",
    "start_new_thread(ssh_cmd,(server_cmd,ssh))\n",
    "\n",
    "bands = [10,100,1000,5000,9000]\n",
    "for b in bands:\n",
    "    for i in range(5):\n",
    "        sleep(1)\n",
    "        client_cmd = ''\n",
    "        local_cmd(client_cmd+' | grep \"%\" > /root/'+crsid+'/L50Lab1/13/exp13c_'+str(b)+'_'+str(i))\n",
    "    \n",
    "ssh_cmd('pkill iperf', ssh)\n",
    "ssh.close()"
   ]
  },
  {
   "cell_type": "markdown",
   "metadata": {},
   "source": [
    "<font color='red'>TODO:</font> Plot a graph of percentage of packets dropped against bandwidth, with error bars."
   ]
  },
  {
   "cell_type": "code",
   "execution_count": null,
   "metadata": {},
   "outputs": [],
   "source": [
    "bans,pcs = data_band('13/exp13c',crsid,bands)\n",
    "ys, yerr = graph_error(pcs)\n"
   ]
  }
 ],
 "metadata": {
  "kernelspec": {
   "display_name": "Python 2",
   "language": "python",
   "name": "python2"
  },
  "language_info": {
   "codemirror_mode": {
    "name": "ipython",
    "version": 2
   },
   "file_extension": ".py",
   "mimetype": "text/x-python",
   "name": "python",
   "nbconvert_exporter": "python",
   "pygments_lexer": "ipython2",
   "version": "2.7.12"
  }
 },
 "nbformat": 4,
 "nbformat_minor": 2
}
