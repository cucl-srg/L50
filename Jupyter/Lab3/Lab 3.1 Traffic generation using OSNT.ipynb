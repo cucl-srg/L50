{
 "cells": [
  {
   "cell_type": "markdown",
   "metadata": {},
   "source": [
    "In this experiment you will generate traffic using OSNT and capture it with DAG.  \n",
    "###### Setup:  \n",
    "-- `bash /root/<crsid>/L50/setup/load_osnt_bitfile.sh <crsid>` (Machine B)    \n",
    "-- (Reboot and reload bitfile if necessary.)  \n",
    "-- `dagload` (Machine A)   \n",
    "-- `ssh-add` (Machine A)    \n",
    "-- Connect nf0 (B) to dag0 (A).     \n",
    "-- Connect nf1 (B) to nf2 (B).     \n",
    "-- `bash /root/<crsid>/L50/setup/mkdir3.sh <crsid>`. (Machine A)  \n",
    "<img src=\"alt_setup3.1.png\">"
   ]
  },
  {
   "cell_type": "markdown",
   "metadata": {},
   "source": [
    "OSNT takes a pcap file along with other parameters, to determine how to replay traffic. pcap files are packet capture files, which are loaded into our traffic generation tool to be replayed. You can view the details by opening them in Wireshark. There are prepared pcap files in L50/pcap_files to use for this experiment.\n",
    "\n",
    "###### Usage:    \n",
    "For nf0, `python osnt-tool-cmd.py -ifp0 <pcap file> -rpn0 <replay number> [Optional: -ipg0 <gap (ns)>] -run `  \n",
    "NB. ipg in OSNT is the gap in nanoseconds between the start of one packet and the start of the next. If the supplied value is too small it is ignored; the default value is 0.  For 10 Gbit Ethernet, 10 bits travel in 1 ns.  \n",
    "NB. This command exits immediately, which may be before the packets have finished replaying. So you must sleep a certain amount of time before killing the capturing process.  \n",
    "  \n",
    "Eg. Replay blah.pcap 20 times on nf1, with gap 100000 ns.  \n",
    "`python osnt-tool-cmd.py -ifp1 blah.pcap -rpn1 20 -ipg1 100000 -run`  "
   ]
  },
  {
   "cell_type": "code",
   "execution_count": null,
   "metadata": {},
   "outputs": [],
   "source": [
    "crsid=''\n",
    "%run /root/$crsid/L50/Jupyter/useful/useful.py\n",
    "%run /root/$crsid/L50/Jupyter/useful/useful3.py\n",
    "%matplotlib inline\n",
    "machB_ip = '' # REPLACE THIS"
   ]
  },
  {
   "cell_type": "markdown",
   "metadata": {},
   "source": [
    "The function `send` will be used throughout this Notebook:  \n",
    "Generate traffic from the NetFPGA card (Machine B) using OSNT. Traffic to the DAG card (Machine A) is captured to a .erf file. One summary line for each packet received is written to a .txt file. Check that these are correctly saved to L50Lab3/3.1.   \n"
   ]
  },
  {
   "cell_type": "code",
   "execution_count": null,
   "metadata": {},
   "outputs": [],
   "source": [
    "def send(exp,size,num,ipg=0):\n",
    "    # size = packet size in bytes\n",
    "    # num = no of packets to send\n",
    "    # ipg = ipg in OSNT\n",
    "    \n",
    "    cmd = shlex.split('dagsnap -d0 -o /root/'+crsid+'/L50Lab3/3.1/'+exp+'.erf')\n",
    "    p = Popen(cmd) # start capture\n",
    "    sleep(2)\n",
    "    play_cmd = ('cd /root/OSNT-SUME-live/projects/osnt/sw/host/app/cli && python osnt-tool-cmd.py '\n",
    "                '-ifp0 /root/'+crsid+'/L50/pcap_files/'+str(size)+'.cap -rpn0 '+str(num)+' -ipg0 '+str(ipg)+' -run')\n",
    "    ssh = ssh_connect(machB_ip)\n",
    "    ssh_cmd(play_cmd,ssh)\n",
    "    ssh.close()\n",
    "    sleep(5)\n",
    "    p.kill() # end capture\n",
    "    sleep(2)\n",
    "    local_cmd('tshark -r /root/'+crsid+'/L50Lab3/3.1/'+exp+'.erf > /root/'+crsid+'/L50Lab3/3.1/'+exp+'.txt') # write summary lines"
   ]
  },
  {
   "cell_type": "markdown",
   "metadata": {},
   "source": [
    "## Experiment a"
   ]
  },
  {
   "cell_type": "markdown",
   "metadata": {},
   "source": [
    "Send 1000 packets, size 512B. See that all the packets arrive."
   ]
  },
  {
   "cell_type": "code",
   "execution_count": null,
   "metadata": {
    "scrolled": true
   },
   "outputs": [],
   "source": [
    "%%capture\n",
    "send('exp1a',512,1000)"
   ]
  },
  {
   "cell_type": "code",
   "execution_count": null,
   "metadata": {},
   "outputs": [],
   "source": [
    "num_pkts = sum(1 for line in open('/root/'+crsid+'/L50Lab3/3.1/exp1a.txt') if line)\n",
    "print \"Packets received: \" + str(num_pkts)"
   ]
  },
  {
   "cell_type": "markdown",
   "metadata": {
    "collapsed": true
   },
   "source": [
    "## Experiment b"
   ]
  },
  {
   "cell_type": "markdown",
   "metadata": {},
   "source": [
    "Send 100000 packets, size 512B. See that all the packets arrive. What is the captured packet rate?"
   ]
  },
  {
   "cell_type": "code",
   "execution_count": null,
   "metadata": {
    "scrolled": true
   },
   "outputs": [],
   "source": [
    "%%capture\n",
    "send('exp1b',512,100000)"
   ]
  },
  {
   "cell_type": "code",
   "execution_count": null,
   "metadata": {
    "scrolled": true
   },
   "outputs": [],
   "source": [
    "num_pkts = sum(1 for line in open('/root/'+crsid+'/L50Lab3/3.1/exp1b.txt') if line)\n",
    "print \"Packets received: \" + str(num_pkts)\n",
    "\n",
    "deltas = getdeltas('3.1/exp1b',crsid,100000)\n",
    "pps = int(floor(1.0 / np.average(deltas) * 1000000))\n",
    "print \"Packets per second: \" + str(pps)"
   ]
  },
  {
   "cell_type": "markdown",
   "metadata": {},
   "source": [
    "## Experiment c"
   ]
  },
  {
   "cell_type": "markdown",
   "metadata": {},
   "source": [
    "Send 100000 packets, size 1024B / 512B / 64B. What is the maximum packet rate supported by the tool? What is the bandwidth? What is the effect of line coding (64b/66b)?"
   ]
  },
  {
   "cell_type": "code",
   "execution_count": null,
   "metadata": {},
   "outputs": [],
   "source": [
    "def rate(exp,size,num):\n",
    "    deltas = getdeltas(exp,crsid,num)\n",
    "    rt = (size+20+4)*8/ np.average(deltas)\n",
    "    print \"BW: \" + str(rt) + \" Mbits/sec\" \n",
    "    pps = int(floor(1.0 / np.average(deltas) * 1000000))\n",
    "    print \"Packets per second: \" + str(pps)"
   ]
  },
  {
   "cell_type": "markdown",
   "metadata": {},
   "source": [
    "### 1024B"
   ]
  },
  {
   "cell_type": "code",
   "execution_count": null,
   "metadata": {},
   "outputs": [],
   "source": [
    "%%capture\n",
    "send('exp1c1',1024,100000)"
   ]
  },
  {
   "cell_type": "code",
   "execution_count": null,
   "metadata": {},
   "outputs": [],
   "source": [
    "rate('3.1/exp1c1',1024,100000)"
   ]
  },
  {
   "cell_type": "markdown",
   "metadata": {},
   "source": [
    "### 512B"
   ]
  },
  {
   "cell_type": "code",
   "execution_count": null,
   "metadata": {},
   "outputs": [],
   "source": [
    "%%capture\n",
    "send('exp1c2',512,100000)"
   ]
  },
  {
   "cell_type": "code",
   "execution_count": null,
   "metadata": {},
   "outputs": [],
   "source": [
    "rate('3.1/exp1c2',512,100000)"
   ]
  },
  {
   "cell_type": "markdown",
   "metadata": {},
   "source": [
    "### 64B"
   ]
  },
  {
   "cell_type": "code",
   "execution_count": null,
   "metadata": {},
   "outputs": [],
   "source": [
    "%%capture\n",
    "send('exp1c3',64,100000)"
   ]
  },
  {
   "cell_type": "code",
   "execution_count": null,
   "metadata": {},
   "outputs": [],
   "source": [
    "rate('3.1/exp1c3',64,100000)"
   ]
  },
  {
   "cell_type": "markdown",
   "metadata": {},
   "source": [
    "## Experiment d"
   ]
  },
  {
   "cell_type": "markdown",
   "metadata": {},
   "source": [
    "Send 100000 packets, size 512B, 100 Mbits/sec. What is the measured traffic throughput?"
   ]
  },
  {
   "cell_type": "code",
   "execution_count": null,
   "metadata": {
    "scrolled": true
   },
   "outputs": [],
   "source": [
    "ipg = (10000/100)*(512+4+20)*8/10\n",
    "print \"ipg: \" + str(ipg)\n",
    "send('exp1d',512,100000,ipg)"
   ]
  },
  {
   "cell_type": "code",
   "execution_count": null,
   "metadata": {},
   "outputs": [],
   "source": [
    "rate('3.1/exp1d', 512,100000)"
   ]
  },
  {
   "cell_type": "markdown",
   "metadata": {},
   "source": [
    "## Experiment e"
   ]
  },
  {
   "cell_type": "markdown",
   "metadata": {},
   "source": [
    "What is the cumulative distribution function (CDF) of inter-arrival time of experiment d?"
   ]
  },
  {
   "cell_type": "code",
   "execution_count": null,
   "metadata": {},
   "outputs": [],
   "source": [
    "deltas = getdeltas('3.1/exp1d',crsid,100000)\n",
    "values, base = np.histogram(deltas, bins=100)\n",
    "cumulative = np.cumsum(values/99999.0)\n",
    "plt.plot(base[:-1], cumulative)\n",
    "plt.ylabel(\"Cumulative probability\")\n",
    "plt.xlabel(\"Inter-arrival time (us)\")\n",
    "plt.show()"
   ]
  },
  {
   "cell_type": "markdown",
   "metadata": {},
   "source": [
    "## Experiment f"
   ]
  },
  {
   "cell_type": "markdown",
   "metadata": {},
   "source": [
    "Send 100000 packets, size 512B, nf0 to DAG, nf1 to nf2, 100 Mbits/sec. What is the distribution of inter-arrival time?"
   ]
  },
  {
   "cell_type": "code",
   "execution_count": null,
   "metadata": {},
   "outputs": [],
   "source": [
    "%%capture\n",
    "\n",
    "cmd=shlex.split('dagsnap -d0 -o /root/'+crsid+'/L50Lab3/3.1/exp1f.erf')\n",
    "p = Popen(cmd) #start capture\n",
    "sleep(2)\n",
    "ipg = (10000/100)*(512+4+20)*8/10\n",
    "play_cmd = (\"cd /root/OSNT-SUME-live/projects/osnt/sw/host/app/cli && python osnt-tool-cmd.py \"\n",
    "            \"-ifp0 /root/\"+crsid+\"/L50/pcap_files/512.cap -rpn0 100000 -ipg0 \"+str(ipg)+\n",
    "            \" -ifp1 /root/\"+crsid+\"/L50/pcap_files/512.cap -rpn1 100000 -ipg1 \" +str(ipg)+\" -run\")\n",
    "ssh = ssh_connect(machB_ip)\n",
    "ssh_cmd(play_cmd,ssh) # generate traffic\n",
    "ssh.close()\n",
    "sleep(5)\n",
    "p.kill() # end capture\n",
    "sleep(2)"
   ]
  },
  {
   "cell_type": "markdown",
   "metadata": {},
   "source": [
    "Plot the CDF of inter-arrival time."
   ]
  },
  {
   "cell_type": "code",
   "execution_count": null,
   "metadata": {},
   "outputs": [],
   "source": [
    "deltas2 = getdeltas('3.1/exp1f',crsid,100000)\n",
    "values, base = np.histogram(deltas2, bins=100)\n",
    "cumulative = np.cumsum(values/99999.0)\n",
    "plt.plot(base[:-1], cumulative)\n",
    "plt.ylabel(\"Cumulative probability\")\n",
    "plt.xlabel(\"Inter-arrival time (us)\")\n",
    "plt.show()"
   ]
  }
 ],
 "metadata": {
  "kernelspec": {
   "display_name": "Python 2",
   "language": "python",
   "name": "python2"
  },
  "language_info": {
   "codemirror_mode": {
    "name": "ipython",
    "version": 2
   },
   "file_extension": ".py",
   "mimetype": "text/x-python",
   "name": "python",
   "nbconvert_exporter": "python",
   "pygments_lexer": "ipython2",
   "version": "2.7.6"
  }
 },
 "nbformat": 4,
 "nbformat_minor": 2
}
