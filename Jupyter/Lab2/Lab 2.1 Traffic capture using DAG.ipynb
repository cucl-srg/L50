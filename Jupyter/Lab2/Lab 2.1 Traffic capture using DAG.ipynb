{
 "cells": [
  {
   "cell_type": "markdown",
   "metadata": {},
   "source": [
    "In this experiment you will generate traffic using OSNT, an open source network tester, and capture it with DAG.  <img src=\"alt_setup2.1.png\">\n",
    "###### Setup:  \n",
    "\n",
    "First time use:   \n",
    "-- `mkdir <crsid>` (Machine B)     \n",
    "-- `git clone https://github.com/cucl-srg/L50` (Machine B)     \n",
    "-- `wget https://www.cl.cam.ac.uk/research/srg/netos/projects/netfpga/bitfiles/OSNT-SUME-live/osnt_20170129.bit -P /root/<crsid>/L50/setup` (Machine B)   \n",
    "-- `bash /root/<crsid>/L50/setup/load_osnt_bitfile.sh <crsid>` (Machine B)   \n",
    "-- reboot the machine (also required after Machine B was powered down)\n",
    "\n",
    "Repeated use:   \n",
    "-- `bash /root/<crsid>/L50/setup/load_osnt_bitfile.sh <crsid>` (Machine B)   \n",
    "-- `dagload` (Machine A)   \n",
    "-- `bash /root/<crsid>/L50/setup/mkdir2.sh <crsid>` (Machine A)   \n",
    "-- eval `ssh-agent -s` (Machine A, Note the \\` before ssh and after -s)    \n",
    "-- `ssh-add` (Machine A)    \n",
    "-- Connect nf0 (B,tx) to dag0 (A,rx) via the tap. Leave dag1 (A,rx) unconnected.      \n",
    "<img src=\"tap2.1_disconnect.png\">"
   ]
  },
  {
   "cell_type": "markdown",
   "metadata": {},
   "source": [
    "dagsnap is the capture tool. There cannot be more than one capture process running at the same time -- `pkill dagsnap` if there are any.  \n",
    "  \n",
    "###### Usage:  \n",
    "  \n",
    "`dagsnap -d0 -o <output file name>`  \n",
    "This runs until it is killed.  \n",
    "dagsnap produces .erf files. These can be viewed using Wireshark or converted to plaintext by `tshark -r file.erf [Optional: -V]`.   \n",
    "\n",
    "E.g., Scripting a capture in Python\n",
    "```\n",
    "cmd = shlex.split('dagsnap -d0 -o output.erf')\n",
    "p = Popen(cmd)\n",
    "sleep(2) # ensure that process is ready to capture\n",
    "# generate traffic #\n",
    "p.kill()\n",
    "```\n",
    "The Popen module allows us to spawn a child process. For more information, read Python docs on the [Popen constructor](https://docs.python.org/2/library/subprocess.html#popen-constructor) and [Popen objects](https://docs.python.org/2/library/subprocess.html#popen-objects).  "
   ]
  },
  {
   "cell_type": "code",
   "execution_count": null,
   "metadata": {
    "scrolled": true
   },
   "outputs": [],
   "source": [
    "crsid=''\n",
    "%run /root/$crsid/L50/Jupyter/useful/useful.py\n",
    "%run /root/$crsid/L50/Jupyter/useful/useful2.1.py\n",
    "%matplotlib inline\n",
    "machB_ip = '' # UPDATE THIS"
   ]
  },
  {
   "cell_type": "markdown",
   "metadata": {},
   "source": [
    "The function `send` will be used throughout this Notebook:  \n",
    "Traffic will be generated from NetFPGA (Machine B) using OSNT. Capture it on the DAG card (Machine A) and check that these are correctly saved to L50Lab2/2.1.  "
   ]
  },
  {
   "cell_type": "code",
   "execution_count": null,
   "metadata": {},
   "outputs": [],
   "source": [
    "def send(exp,num,ipg=0):\n",
    "    \n",
    "    # start capture to /root/L50Lab2/2.1/'+exp+'.erf\n",
    "    cmd = shlex.split('dagsnap -d0 -o /root/'+crsid+'/L50Lab2/2.1/'+exp+'.erf')\n",
    "    p = Popen(cmd)\n",
    "    sleep(2)\n",
    "    \n",
    "    ssh = ssh_connect(machB_ip)\n",
    "    ssh_cmd('cd /root/OSNT-SUME-live/projects/osnt/sw/host/app/cli && python osnt-tool-cmd.py '\n",
    "            '-ifp0 /root/'+crsid+'/L50/pcap_files/512.cap -rpn0 '+str(num)+' -ipg0 '+str(ipg)+' -run'\n",
    "            ,ssh) # generate traffic\n",
    "    ssh.close()\n",
    "    sleep(5) # ensure that traffic has finished sending\n",
    "    \n",
    "    # end capture\n",
    "    p.kill()"
   ]
  },
  {
   "cell_type": "markdown",
   "metadata": {},
   "source": [
    "### Experiment a"
   ]
  },
  {
   "cell_type": "markdown",
   "metadata": {},
   "source": [
    "We first check that the setup is connected and operating properly.\n",
    "Send 1000 packets, size 512B. Check that the tool receives them. \n",
    "What is the precision of the measurement? What is the resolution?"
   ]
  },
  {
   "cell_type": "code",
   "execution_count": null,
   "metadata": {},
   "outputs": [],
   "source": [
    "%%capture\n",
    "send('exp1a',1000)\n",
    "!tshark -r /root/$crsid/L50Lab2/2.1/exp1a.erf -V | grep -e \"since reference\" > \\\n",
    "/root/$crsid/L50Lab2/2.1/exp1a.txt"
   ]
  },
  {
   "cell_type": "code",
   "execution_count": null,
   "metadata": {
    "scrolled": true
   },
   "outputs": [],
   "source": [
    "times = gettimes('exp1a',crsid)\n",
    "print \"Packets received: \" + str(len(times)) + \"\\n\"\n",
    "for i in range(10):\n",
    "    print str(times[i]) + \" seconds\"\n",
    "print \"...\""
   ]
  },
  {
   "cell_type": "markdown",
   "metadata": {},
   "source": [
    "### Experiment b"
   ]
  },
  {
   "cell_type": "markdown",
   "metadata": {},
   "source": [
    "Connect dag1 to the tap. <img src=\"tap2.1_connect.png\" />"
   ]
  },
  {
   "cell_type": "markdown",
   "metadata": {},
   "source": [
    "Send 100000 packets, size 512B, nf0 (B) to dag0 (A) and dag1 (A). What is the difference between the ports?"
   ]
  },
  {
   "cell_type": "code",
   "execution_count": null,
   "metadata": {
    "scrolled": true
   },
   "outputs": [],
   "source": [
    "%%capture\n",
    "send('exp1b',100000)\n",
    "!tshark -r /root/$crsid/L50Lab2/2.1/exp1b.erf -V | grep -e \"since reference\" -e \"Interface id\"> \\\n",
    "/root/$crsid/L50Lab2/2.1/exp1b.txt"
   ]
  },
  {
   "cell_type": "markdown",
   "metadata": {},
   "source": [
    "Plot a histogram of (dag0 TS - dag1 TS):"
   ]
  },
  {
   "cell_type": "code",
   "execution_count": null,
   "metadata": {
    "scrolled": true
   },
   "outputs": [],
   "source": [
    "def cmp_ports(exp,crsid):\n",
    "    diff = getdiff(exp,crsid)\n",
    "    minn = int(floor(min(diff)))\n",
    "    maxx = int(ceil(max(diff)))\n",
    "    plt.hist(diff,abs(maxx-minn)*2,range=(minn,maxx))\n",
    "    plt.xlabel(\"dag0 TS - dag1 TS (nanoseconds)\")\n",
    "    plt.ylabel(\"number of packets\")\n",
    "    plt.show()\n",
    "cmp_ports('exp1b',crsid)"
   ]
  },
  {
   "cell_type": "markdown",
   "metadata": {},
   "source": [
    "### Experiment c"
   ]
  },
  {
   "cell_type": "markdown",
   "metadata": {},
   "source": [
    "Swap the transceivers and fibres, and repeat Experiment 2."
   ]
  },
  {
   "cell_type": "code",
   "execution_count": null,
   "metadata": {
    "scrolled": true
   },
   "outputs": [],
   "source": [
    "%%capture\n",
    "send('exp1c',100000)\n",
    "!tshark -r /root/$crsid/L50Lab2/2.1/exp1c.erf -V | grep -e \"since reference\" -e \"Interface id\"> \\\n",
    "/root/$crsid/L50Lab2/2.1/exp1c.txt"
   ]
  },
  {
   "cell_type": "code",
   "execution_count": null,
   "metadata": {
    "scrolled": false
   },
   "outputs": [],
   "source": [
    "cmp_ports('exp1c',crsid)"
   ]
  }
 ],
 "metadata": {
  "kernelspec": {
   "display_name": "Python 2",
   "language": "python",
   "name": "python2"
  },
  "language_info": {
   "codemirror_mode": {
    "name": "ipython",
    "version": 2
   },
   "file_extension": ".py",
   "mimetype": "text/x-python",
   "name": "python",
   "nbconvert_exporter": "python",
   "pygments_lexer": "ipython2",
   "version": "2.7.12"
  }
 },
 "nbformat": 4,
 "nbformat_minor": 2
}
